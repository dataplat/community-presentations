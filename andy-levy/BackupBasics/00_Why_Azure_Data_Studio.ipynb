{
    "metadata": {
        "kernelspec": {
            "name": "SQL",
            "display_name": "SQL",
            "language": "sql"
        },
        "language_info": {
            "name": "sql",
            "version": ""
        },
        "extensions": {
            "azuredatastudio": {
                "version": 1,
                "views": []
            }
        }
    },
    "nbformat_minor": 2,
    "nbformat": 4,
    "cells": [
        {
            "cell_type": "markdown",
            "source": [
                "# Why Azure Data Studio?\r\n",
                "\r\n",
                "With Azure Data Studio, we can mix text (in Markdown form), code, and the code's output, into a single package.\r\n",
                "\r\n",
                "We can then hand that package to someone else, ask them to run it, save the results, and send it back.\r\n",
                "\r\n",
                "This lets us keep the code nicely organized with the output, and intersperse instructions and other documentation."
            ],
            "metadata": {
                "azdata_cell_guid": "c5ce23b2-0603-47b4-9f4d-c63b228e2883"
            }
        }
    ]
}